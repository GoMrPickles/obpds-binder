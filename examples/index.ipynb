{
 "cells": [
  {
   "cell_type": "markdown",
   "metadata": {
    "collapsed": true
   },
   "source": [
    "# Welcome to the OBPDS Examples\n",
    "\n",
    "The following simple examples were used in the [tutorial](../tutorial.ipynb):\n",
    "\n",
    "- [GaAs pn diode](pn_diode.ipynb)\n",
    "- [GaAs np diode](np_diode.ipynb)\n",
    "- [GaAs/AlGaAs pN heterojunction diode](pn_hj_diode.ipynb)\n",
    "\n",
    "Here are some more complicated examples:\n",
    "\n",
    "- [GaAs n-type Schottky diode](schottky_diode.ipynb)\n",
    "- [Degenerately-doped InAs pn diode](degenerate_pn_diode.ipynb)\n",
    "- [InAs Avalanche Photodiode (APD)](InAs_APD.ipynb)\n",
    "\n",
    "Here are some examples of creating custom III-V alloys and materials:\n",
    "\n",
    "- [Custom III-V alloy: AlInAsSb](custom_AlInAsSb.ipynb)\n",
    "- [Custom material: Al2O3](custom_Al2O3.ipynb)"
   ]
  }
 ],
 "metadata": {
  "kernelspec": {
   "display_name": "Python 2",
   "language": "python",
   "name": "python2"
  },
  "language_info": {
   "codemirror_mode": {
    "name": "ipython",
    "version": 2
   },
   "file_extension": ".py",
   "mimetype": "text/x-python",
   "name": "python",
   "nbconvert_exporter": "python",
   "pygments_lexer": "ipython2",
   "version": "2.7.8"
  }
 },
 "nbformat": 4,
 "nbformat_minor": 0
}
