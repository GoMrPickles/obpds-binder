{
 "cells": [
  {
   "cell_type": "markdown",
   "metadata": {
    "collapsed": true
   },
   "source": [
    "# Welcome to the OBPDS Documentation\n",
    "\n",
    "Open Band Parameters Device Simulator (OBPDS) is a free, open-source technology computer aided design software for simulating semiconductor structures and devices.\n",
    "\n",
    "OBPDS currently provides 1D, zero-current electrostatic simulation of III-V compound semiconductor heterostructures, similar to [Prof. William Frensley's Bandprof](https://courses.ece.ubc.ca/480/downloads.htm). Materials parameters are provided by the [Open Band Parameters](http://github.com/scott-maddox/openbandparams) sister project.\n",
    "\n",
    "## Tutorial\n",
    "\n",
    "[Click here](tutorial.ipynb) to access the interactive tutorial.\n",
    "\n",
    "## Examples\n",
    "\n",
    "[Click here](examples/index.ipynb) to access the interactive examples.\n",
    "\n",
    "## Installation\n",
    "\n",
    "In order to run OBPDS locally, you must having a working [Python](https://www.python.org/download/) distribution\n",
    "installed. Python 3 support has not yet been tested, so Python 2.7 is suggested. You will also need to install [Numpy](http://docs.scipy.org/doc/numpy/user/install.html) and [Scipy](http://www.scipy.org/install.html) before proceeding. If you're not familiar with Python, you might consider installing a [Python distribution](https://www.scipy.org/install.html#scientific-python-distributions) that comes prepackaged with Numpy and Scipy.\n",
    "\n",
    "### From PyPi\n",
    "\n",
    "This is the easiest method. Install from [PyPi](http://pypi.python.org/pypi) by running `pip install obpds`\n",
    "from the command line.\n",
    "\n",
    "### From Github\n",
    "\n",
    "First, you will need to install the following prerequisite packages:\n",
    "\n",
    "- [Numpy](http://docs.scipy.org/doc/numpy/user/install.html)\n",
    "- [Scipy](http://www.scipy.org/install.html)\n",
    "- [Matplotlib](http://matplotlib.org/users/installing.html)\n",
    "- [OpenBandParams](http://scott-maddox.github.io/openbandparams/installation.html)\n",
    "- [FDINT](https://github.com/scott-maddox/fdint)\n",
    "\n",
    "Once these are installed, download the latest release `.zip` or `.tar.gz` source package from the [github page](http://github.com/scott-maddox/obpds/releases/latest), extract its contents, and run `python setup.py install` from within the extracted directory (OBPDS is a pure-python library, for now, so no compiling occurs during this installation)."
   ]
  }
 ],
 "metadata": {
  "kernelspec": {
   "display_name": "Python 2",
   "language": "python",
   "name": "python2"
  },
  "language_info": {
   "codemirror_mode": {
    "name": "ipython",
    "version": 2
   },
   "file_extension": ".py",
   "mimetype": "text/x-python",
   "name": "python",
   "nbconvert_exporter": "python",
   "pygments_lexer": "ipython2",
   "version": "2.7.8"
  }
 },
 "nbformat": 4,
 "nbformat_minor": 0
}
